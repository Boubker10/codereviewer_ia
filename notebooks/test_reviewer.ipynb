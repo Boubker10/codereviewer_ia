{
 "cells": [
  {
   "cell_type": "code",
   "execution_count": 24,
   "id": "00a9d871",
   "metadata": {},
   "outputs": [
    {
     "data": {
      "text/plain": [
       "True"
      ]
     },
     "execution_count": 24,
     "metadata": {},
     "output_type": "execute_result"
    }
   ],
   "source": [
    "import sys \n",
    "sys.path.append('../')\n",
    "import os \n",
    "from load_dotenv import load_dotenv\n",
    "load_dotenv()"
   ]
  },
  {
   "cell_type": "code",
   "execution_count": 25,
   "id": "34411e3a",
   "metadata": {},
   "outputs": [],
   "source": [
    "repo_name = f\"{os.getenv('GITHUB_USERNAME')}/repo_test_codereviewer\" "
   ]
  },
  {
   "cell_type": "code",
   "execution_count": 26,
   "id": "7fb6fb91",
   "metadata": {},
   "outputs": [
    {
     "name": "stdout",
     "output_type": "stream",
     "text": [
      "Boubker10/repo_test_codereviewer\n"
     ]
    }
   ],
   "source": [
    "print(repo_name)"
   ]
  },
  {
   "cell_type": "code",
   "execution_count": 27,
   "id": "cb585f92",
   "metadata": {},
   "outputs": [],
   "source": [
    "github_token = os.getenv(\"GITHUB_TOKEN\")"
   ]
  },
  {
   "cell_type": "code",
   "execution_count": 28,
   "id": "a54fd9ba",
   "metadata": {},
   "outputs": [],
   "source": [
    "pr = 2 \n",
    "from src.core.git_client import GitClient\n",
    "\n",
    "client = GitClient(repo_name)"
   ]
  },
  {
   "cell_type": "code",
   "execution_count": 29,
   "id": "23710697",
   "metadata": {},
   "outputs": [
    {
     "data": {
      "text/plain": [
       "<src.core.git_client.GitClient at 0x20f00264510>"
      ]
     },
     "execution_count": 29,
     "metadata": {},
     "output_type": "execute_result"
    }
   ],
   "source": [
    "client"
   ]
  },
  {
   "cell_type": "code",
   "execution_count": 30,
   "id": "063a7202",
   "metadata": {},
   "outputs": [
    {
     "data": {
      "text/plain": [
       "<src.core.reviewer.Reviewer at 0x20f0026fe50>"
      ]
     },
     "execution_count": 30,
     "metadata": {},
     "output_type": "execute_result"
    }
   ],
   "source": [
    "from src.core.reviewer import Reviewer \n",
    "\n",
    "reviewer = Reviewer(repo_name, github_token)\n",
    "reviewer"
   ]
  },
  {
   "cell_type": "code",
   "execution_count": 31,
   "id": "d582fd50",
   "metadata": {},
   "outputs": [],
   "source": [
    "anaylse_pull_request = reviewer.analyze_pr(pr_number=pr)"
   ]
  }
 ],
 "metadata": {
  "kernelspec": {
   "display_name": "Python 3",
   "language": "python",
   "name": "python3"
  },
  "language_info": {
   "codemirror_mode": {
    "name": "ipython",
    "version": 3
   },
   "file_extension": ".py",
   "mimetype": "text/x-python",
   "name": "python",
   "nbconvert_exporter": "python",
   "pygments_lexer": "ipython3",
   "version": "3.11.0"
  }
 },
 "nbformat": 4,
 "nbformat_minor": 5
}
