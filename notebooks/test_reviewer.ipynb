{
 "cells": [
  {
   "cell_type": "code",
   "execution_count": 1,
   "id": "00a9d871",
   "metadata": {},
   "outputs": [],
   "source": [
    "import sys \n",
    "sys.path.append('../')\n",
    "import os \n",
    "from load_dotenv import load_dotenv\n",
    "load_dotenv()\n",
    "import nest_asyncio\n",
    "import asyncio\n",
    "\n",
    "nest_asyncio.apply()\n"
   ]
  },
  {
   "cell_type": "code",
   "execution_count": 2,
   "id": "34411e3a",
   "metadata": {},
   "outputs": [],
   "source": [
    "repo_name = f\"{os.getenv('GITHUB_USERNAME')}/repo_test_codereviewer\" "
   ]
  },
  {
   "cell_type": "code",
   "execution_count": 3,
   "id": "7fb6fb91",
   "metadata": {},
   "outputs": [
    {
     "name": "stdout",
     "output_type": "stream",
     "text": [
      "Boubker10/repo_test_codereviewer\n"
     ]
    }
   ],
   "source": [
    "print(repo_name)"
   ]
  },
  {
   "cell_type": "code",
   "execution_count": 4,
   "id": "cb585f92",
   "metadata": {},
   "outputs": [],
   "source": [
    "github_token = os.getenv(\"GITHUB_TOKEN\")"
   ]
  },
  {
   "cell_type": "code",
   "execution_count": 5,
   "id": "a54fd9ba",
   "metadata": {},
   "outputs": [],
   "source": [
    "pr = 3\n",
    "from src.core.git_client import GitClient\n",
    "\n",
    "client = GitClient(repo_name)"
   ]
  },
  {
   "cell_type": "code",
   "execution_count": 6,
   "id": "23710697",
   "metadata": {},
   "outputs": [
    {
     "data": {
      "text/plain": [
       "<src.core.git_client.GitClient at 0x14a974f9ed0>"
      ]
     },
     "execution_count": 6,
     "metadata": {},
     "output_type": "execute_result"
    }
   ],
   "source": [
    "client"
   ]
  },
  {
   "cell_type": "code",
   "execution_count": 7,
   "id": "063a7202",
   "metadata": {},
   "outputs": [
    {
     "data": {
      "text/plain": [
       "<src.core.reviewer.Reviewer at 0x14a97760310>"
      ]
     },
     "execution_count": 7,
     "metadata": {},
     "output_type": "execute_result"
    }
   ],
   "source": [
    "from src.core.reviewer import Reviewer \n",
    "\n",
    "reviewer = Reviewer(repo_name, github_token)\n",
    "reviewer"
   ]
  },
  {
   "cell_type": "code",
   "execution_count": 31,
   "id": "d582fd50",
   "metadata": {},
   "outputs": [],
   "source": [
    "anaylse_pull_request = reviewer.analyze_pr(pr_number=pr)"
   ]
  },
  {
   "cell_type": "code",
   "execution_count": 6,
   "id": "2fe1736f",
   "metadata": {},
   "outputs": [
    {
     "data": {
      "text/plain": [
       "'## 🤖 Code Review by CodeReviewerIA\\n\\nOf course. Here is a detailed code review of the provided diff.\\n\\n### **Strengths**\\n\\n*   **Clear Intent:** The logic of the function is easy to understand. The developer\\'s intent—to check a condition, perform a calculation, and loop—is clear from the structure.\\n*   **Use of Functions:** Encapsulating logic inside a function is a good practice for code organization and reusability.\\n\\n---\\n\\n### **Issues (Critical - This code will not run)**\\n\\nThis code contains multiple syntax and logical errors that will prevent it from executing or cause it to crash at runtime.\\n\\n1.  **Syntax Error: Function Definition**\\n    *   **Location:** Line 1\\n    *   **Problem:** `def ma_fonction(x y):` is missing a comma between parameters.\\n    *   **Consequence:** A `SyntaxError` will be raised immediately.\\n    *   **Fix:** Change to `def ma_fonction(x, y):`\\n\\n2.  **Syntax Error: Missing Colon**\\n    *   **Location:** Line 2\\n    *   **Problem:** `if x > 10` is missing a colon (`:`) at the end.\\n    *   **Consequence:** A `SyntaxError` will be raised.\\n    *   **Fix:** Change to `if x > 10:`\\n\\n3.  **Indentation Error**\\n    *   **Location:** Lines 3, 4, 8\\n    *   **Problem:** The lines `print(\"x est supérieur à 10\")`, `result = x * 2 + 5`, and `print(\"le nombre est \" + i)` are not indented under their respective control statements (`if` and `for`). Python uses indentation to define code blocks.\\n    *   **Consequence:** An `IndentationError` will be raised, or the code will execute with incorrect logic (e.g., the `print(result)` line would execute regardless of the `if` condition).\\n    *   **Fix:** Indent all lines inside code blocks (after `:`) by 4 spaces.\\n\\n4.  **Type Error: Incorrect Operation**\\n    *   **Location:** Line 7\\n    *   **Problem:** `return i + \"5\"` attempts to add an integer (`i`) to a string (`\"5\"`). This operation is not defined in Python.\\n    *   **Consequence:** A `TypeError: unsupported operand type(s) for +: \\'int\\' and \\'str\\'` will be raised when `i` is 5.\\n    *   **Fix:** Convert the integer to a string: `return str(i) + \"5\"` or use an f-string: `return f\"{i}5\"`.\\n\\n5.  **Type Error: Function Call**\\n    *   **Location:** Line 13\\n    *   **Problem:** `ma_fonction(\"cinq\", 12)` passes a string `\"cinq\"` as the first argument `x`. The function then tries to compare it to an integer (`if x > 10`) and perform arithmetic on it (`x * 2`).\\n    *   **Consequence:** A `TypeError: \\'>\\' not supported between instances of \\'str\\' and \\'int\\'` will be raised.\\n    *   **Fix:** Pass integers for parameters that are used in numerical operations: `ma_fonction(15, 12)`.\\n\\n---\\n\\n### **Improvements**\\n\\n1.  **Readability & Best Practices:**\\n    *   **Add a Docstring:** Describe what the function does.\\n        ```python\\n        def ma_fonction(x, y):\\n            \"\"\"\\n            Performs operations based on the input value x.\\n            Args:\\n                x (int): The primary value for calculations and checks.\\n                y (int): Currently unused parameter.\\n            \"\"\"\\n        ```\\n    *   **Use F-Strings:** Modernize string formatting for better readability.\\n        *   Change `print(\"le nombre est \" + i)` to `print(f\"le nombre est {i}\")`\\n    *   **Remove Unused Parameter:** The parameter `y` is declared but never used within the function. This is a code smell. Either use it or remove it.\\n    *   **Consistent Language:** Choose either English or French for variable names and comments to maintain consistency across the codebase. Mixed languages can harm readability in larger projects.\\n\\n2.  **Logic & Robustness:**\\n    *   **Add an `else` Clause:** The current `if` statement only handles the case where `x > 10`. It\\'s often good practice to make the behavior for the other case explicit, even if it\\'s to do nothing.\\n        ```python\\n        if x > 10:\\n            print(\"x est supérieur à 10\")\\n            result = x * 2 + 5\\n            print(result)\\n        else:\\n            # Handle the case where x <= 10, if necessary\\n            print(\"x est 10 ou moins\")\\n        ```\\n    *   **Type Hints:** Add type hints to make the expected input and output types clear. This acts as inline documentation and helps with static analysis.\\n        ```python\\n        def ma_fonction(x: int, y: int) -> None:\\n        ```\\n\\n---\\n\\n### **Actionable Summary**\\n\\nThis code requires fundamental corrections before it can be merged. The reviewer should request the author to:\\n\\n1.  **Fix all syntax errors:** Add the missing comma and colons.\\n2.  **Fix all indentation:** Properly indent the code blocks.\\n3.  **Fix type conflicts:** Ensure operations are performed on compatible types (e.g., `str(i)` or correct function arguments).\\n4.  **Address the improvements** (especially adding a docstring and removing the unused parameter `y`) before final approval.\\n\\n**Final verdict: Request changes.** The code in its current state is broken and cannot be executed.\\n\\n---\\n\\n📝 Formatage requis dans `t.py`:\\nErreur lors du linting: [WinError 2] Le fichier spécifié est introuvable'"
      ]
     },
     "execution_count": 6,
     "metadata": {},
     "output_type": "execute_result"
    }
   ],
   "source": [
    "from src.core.reviewer import Reviewer\n",
    "import os\n",
    "from dotenv import load_dotenv\n",
    "\n",
    "load_dotenv()\n",
    "\n",
    "repo_name = f\"{os.getenv('GITHUB_USERNAME')}/repo_test_codereviewer\"\n",
    "github_token = os.getenv(\"GITHUB_TOKEN\")\n",
    "\n",
    "reviewer = Reviewer(repo_name, github_token)\n",
    "\n",
    "reviewer.analyze_pr(pr_number=3, post_to_github=True, post_to_discord=True)\n"
   ]
  },
  {
   "cell_type": "code",
   "execution_count": 6,
   "id": "32cd809e",
   "metadata": {},
   "outputs": [
    {
     "data": {
      "text/plain": [
       "'## 🤖 Code Review by CodeReviewerIA\\n\\nOf course. Here is a detailed code review of the provided diff.\\n\\n### **Strengths**\\n\\n*   **Clear Intent:** The logic of the function is easy to understand at a high level (checking a value, performing a calculation, and looping).\\n*   **Use of Functions:** Encapsulating logic within a function is a good practice for organization and reusability.\\n\\n---\\n\\n### **Issues (Critical - This code will not run or will crash)**\\n\\nThis code contains multiple fundamental syntax and logic errors. It cannot be merged in its current state.\\n\\n1.  **Syntax Error: Missing Commas and Colons**\\n    *   **Location:** `def ma_fonction(x y):` and `if x > 10`\\n    *   **Problem:** Function parameters must be separated by commas. Conditional statements and loops require a colon `:` at the end of the line.\\n    *   **Action:** Add a comma between parameters and a colon after the condition.\\n    *   **Fix:** `def ma_fonction(x, y):` and `if x > 10:`\\n\\n2.  **Indentation Errors**\\n    *   **Location:** The body of the `if` statement and the `for` loop.\\n    *   **Problem:** Python uses indentation to define code blocks. The lines `print(\"x est supérieur à 10\")` and the code inside the `for` loop are not indented.\\n    *   **Action:** Consistently indent all code within a block (typically 4 spaces).\\n    *   **Fix:**\\n        ```python\\n        if x > 10:\\n            print(\"x est supérieur à 10\")  # This line is now indented\\n        ```\\n\\n3.  **Type Error: Incompatible Operands**\\n    *   **Location:** `return i + \"5\"`\\n    *   **Problem:** The variable `i` is an integer, and `\"5\"` is a string. You cannot use the `+` operator to add different types; it will raise a `TypeError`.\\n    *   **Action:** Convert the integer to a string before concatenation.\\n    *   **Fix:** `return str(i) + \"5\"` or use an f-string: `return f\"{i}5\"`\\n\\n4.  **Type Error: Function Call Argument Mismatch**\\n    *   **Location:** `ma_fonction(\"cinq\", 12)`\\n    *   **Problem:** The function\\'s first operation is `if x > 10`, which compares `x` to an integer. However, the first argument in the call is a string `\"cinq\"`. This comparison (`\"cinq\" > 10`) is invalid in Python 3 and will raise a `TypeError`.\\n    *   **Action:** Ensure the function is called with arguments of the expected type. The first argument should be a number.\\n\\n---\\n\\n### **Improvements (Beyond fixing critical errors)**\\n\\n1.  **Readability & Best Practices:**\\n    *   **Use F-strings (Python 3.6+):** Modernize string formatting for better readability.\\n        *   `print(\"le nombre est \" + i)` becomes `print(f\"le nombre est {i}\")`\\n    *   **Unused Parameter:** The function accepts a parameter `y` but never uses it. This is confusing. Either remove it or implement logic that uses it.\\n    *   **Function Name:** While not an error, using English names for functions and variables (`my_function` instead of `ma_fonction`) is a very common practice in international codebases and improves readability for a wider audience of developers.\\n\\n2.  **Logic & Potential Bugs:**\\n    *   **Early Return in Loop:** The `return` statement inside the `for` loop will exit the entire function on the first iteration where `i == 5`. This means the final `print` statement will only run for values `i` from `0` to `4`. Ensure this is the intended behavior. If the goal is to just print the numbers, use `break` instead of `return` to only exit the loop, not the function.\\n    *   **Silent Failure:** If `x <= 10`, the function will skip the `if` block but still execute the `for` loop. This might be unexpected. Consider adding an `else` clause to make the logic explicit.\\n\\n---\\n\\n### **Revised Code Example**\\n\\nHere is how the code could look after addressing the critical issues and key improvements:\\n\\n```python\\ndef my_function(x, y):  # Fixed parameters, used \\'y\\', English name\\n    if x > 10:\\n        print(\"x est supérieur à 10\")  # Fixed indentation\\n\\n    result = x * 2 + 5\\n    print(result)\\n\\n    for i in range(10):\\n        if i == 5:\\n            # Fixed type error and used f-string\\n            returned_value = f\"{i}5\"\\n            print(f\"Early return triggered: {returned_value}\")\\n            return returned_value  # This still exits the function\\n        print(f\"le nombre est {i}\")  # Used f-string\\n\\n# Called with valid integer arguments\\nmy_function(15, 12)\\n```\\n\\n**Summary: This pull request introduces code with critical syntax and logic errors. It must be rejected until these fundamental issues are fixed. The author should run the code through a linter (like `pylint` or `flake8`) and a basic test before resubmitting.**\\n\\n---\\n\\n📝 Formatage requis dans `t.py`:\\nErreur lors du linting: [WinError 2] Le fichier spécifié est introuvable'"
      ]
     },
     "execution_count": 6,
     "metadata": {},
     "output_type": "execute_result"
    },
    {
     "name": "stdout",
     "output_type": "stream",
     "text": [
      "❌ Impossible d'envoyer le message: '_MissingSentinel' object has no attribute 'is_set'\n"
     ]
    }
   ],
   "source": [
    "from src.core.reviewer import Reviewer\n",
    "import os\n",
    "\n",
    "repo_name = f\"{os.getenv('GITHUB_USERNAME')}/repo_test_codereviewer\"\n",
    "github_token = os.getenv(\"GITHUB_TOKEN\")\n",
    "\n",
    "reviewer = Reviewer(repo_name, github_token)\n",
    "reviewer.analyze_pr(pr_number=3, post_to_github=False, post_to_discord=True)\n"
   ]
  },
  {
   "cell_type": "code",
   "execution_count": null,
   "metadata": {},
   "outputs": [],
   "source": []
  }
 ],
 "metadata": {
  "kernelspec": {
   "display_name": "Python 3",
   "language": "python",
   "name": "python3"
  },
  "language_info": {
   "codemirror_mode": {
    "name": "ipython",
    "version": 3
   },
   "file_extension": ".py",
   "mimetype": "text/x-python",
   "name": "python",
   "nbconvert_exporter": "python",
   "pygments_lexer": "ipython3",
   "version": "3.11.0"
  }
 },
 "nbformat": 4,
 "nbformat_minor": 5
}
