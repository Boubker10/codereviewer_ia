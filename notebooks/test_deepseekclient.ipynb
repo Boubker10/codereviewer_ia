{
 "cells": [
  {
   "cell_type": "code",
   "execution_count": 2,
   "id": "1839beda",
   "metadata": {},
   "outputs": [
    {
     "data": {
      "text/plain": [
       "True"
      ]
     },
     "execution_count": 2,
     "metadata": {},
     "output_type": "execute_result"
    }
   ],
   "source": [
    "import sys \n",
    "import os \n",
    "from load_dotenv import load_dotenv\n",
    "sys.path.append(\"../\")\n",
    "load_dotenv()"
   ]
  },
  {
   "cell_type": "code",
   "execution_count": 3,
   "id": "7058f5d3",
   "metadata": {},
   "outputs": [],
   "source": [
    "from src.core.deepseek_client import DeepSeekClient"
   ]
  },
  {
   "cell_type": "code",
   "execution_count": 8,
   "id": "419b0531",
   "metadata": {},
   "outputs": [],
   "source": [
    "prompt = \"\"\"def average(numbers):\n",
    "    total = sum(numbers)\n",
    "    return total / len(numbers)\n",
    "\n",
    "print(average([]))\"\"\"\n"
   ]
  },
  {
   "cell_type": "code",
   "execution_count": 9,
   "id": "d83eb97b",
   "metadata": {},
   "outputs": [
    {
     "name": "stdout",
     "output_type": "stream",
     "text": [
      "def average(numbers):\n",
      "    total = sum(numbers)\n",
      "    return total / len(numbers)\n",
      "\n",
      "print(average([]))\n"
     ]
    }
   ],
   "source": [
    "print(prompt)"
   ]
  },
  {
   "cell_type": "code",
   "execution_count": 13,
   "id": "26953045",
   "metadata": {},
   "outputs": [],
   "source": [
    "api_key = os.getenv(\"DEEPSEEK_API_KEY\")"
   ]
  },
  {
   "cell_type": "code",
   "execution_count": 15,
   "id": "9f593935",
   "metadata": {},
   "outputs": [],
   "source": [
    "deepseek = DeepSeekClient(api_key=api_key)\n",
    "code_reviewer = deepseek.review_code(prompt)"
   ]
  },
  {
   "cell_type": "code",
   "execution_count": 18,
   "id": "3470c966",
   "metadata": {},
   "outputs": [
    {
     "name": "stdout",
     "output_type": "stream",
     "text": [
      "I've reviewed the code and found a critical issue:\n",
      "\n",
      "**Problem**: The code will crash with a `ZeroDivisionError` when given an empty list.\n",
      "\n",
      "**Root Cause**: When `numbers` is an empty list, `len(numbers)` returns 0, and division by zero is mathematically undefined and raises an exception in Python.\n",
      "\n",
      "**Solution**: Add input validation to handle the empty list case appropriately:\n",
      "\n",
      "```python\n",
      "def average(numbers):\n",
      "    if not numbers:  # Check if list is empty\n",
      "        return 0  # or raise ValueError(\"Cannot calculate average of empty list\")\n",
      "    total = sum(numbers)\n",
      "    return total / len(numbers)\n",
      "\n",
      "print(average([]))\n",
      "```\n",
      "\n",
      "**Recommendations**:\n",
      "1. **Return 0**: If you want to treat empty lists as having an average of 0\n",
      "2. **Raise an exception**: If empty input should be considered an error condition\n",
      "3. **Return None**: If you prefer to return a special value indicating no average can be calculated\n",
      "\n",
      "The choice depends on your application's requirements, but the most common approach is either returning 0 or raising a ValueError with a descriptive message.\n"
     ]
    }
   ],
   "source": [
    "print(code_reviewer)"
   ]
  },
  {
   "cell_type": "code",
   "execution_count": null,
   "id": "93507cb8",
   "metadata": {},
   "outputs": [],
   "source": []
  }
 ],
 "metadata": {
  "kernelspec": {
   "display_name": "Python 3",
   "language": "python",
   "name": "python3"
  },
  "language_info": {
   "codemirror_mode": {
    "name": "ipython",
    "version": 3
   },
   "file_extension": ".py",
   "mimetype": "text/x-python",
   "name": "python",
   "nbconvert_exporter": "python",
   "pygments_lexer": "ipython3",
   "version": "3.11.0"
  }
 },
 "nbformat": 4,
 "nbformat_minor": 5
}
